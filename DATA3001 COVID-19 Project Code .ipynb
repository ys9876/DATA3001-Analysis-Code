{
 "cells": [
  {
   "cell_type": "markdown",
   "metadata": {},
   "source": [
    "# DATA3001 COVID-19 Project code"
   ]
  },
  {
   "cell_type": "markdown",
   "metadata": {},
   "source": [
    "*NB: This does not include code which trialled out methods that were ultimately discarded, such as PCA."
   ]
  },
  {
   "cell_type": "markdown",
   "metadata": {},
   "source": [
    "### Import all relevant packages"
   ]
  },
  {
   "cell_type": "code",
   "execution_count": null,
   "metadata": {},
   "outputs": [],
   "source": [
    "import pandas as pd\n",
    "import numpy as np\n",
    "from numpy import mean\n",
    "from numpy import std\n",
    "from numpy import absolute\n",
    "from numpy import inf\n",
    "import scanpy as sc\n",
    "from matplotlib import pyplot as plt\n",
    "%matplotlib inline\n",
    "from sklearn.cluster import KMeans\n",
    "from sklearn import metrics\n",
    "from sklearn.metrics import adjusted_rand_score\n",
    "from sklearn.model_selection import cross_val_score\n",
    "from sklearn.model_selection import KFold\n",
    "from sklearn.model_selection import train_test_split\n",
    "from sklearn.model_selection import LeaveOneOut\n",
    "from sklearn.linear_model import LassoCV\n",
    "from sklearn.linear_model import LinearRegression, Lasso, Ridge\n",
    "from sklearn.linear_model import LogisticRegression\n",
    "from sklearn.preprocessing import StandardScaler\n",
    "from sklearn import datasets\n",
    "from sklearn import linear_model\n",
    "from sklearn.svm import l1_min_c\n",
    "from sklearn.datasets import make_classification\n",
    "from scipy.stats import sem\n",
    "from scipy import stats\n",
    "from scipy.stats import norm\n",
    "from statsmodels.stats.multitest import multipletests\n",
    "from yellowbrick.regressor import PredictionError, ResidualsPlot\n",
    "from bioinfokit import analys, visuz"
   ]
  },
  {
   "cell_type": "markdown",
   "metadata": {},
   "source": [
    "### Code to import and generate datasets all analysis is using."
   ]
  },
  {
   "cell_type": "code",
   "execution_count": null,
   "metadata": {},
   "outputs": [],
   "source": [
    "# Import all datasets.\n",
    "\n",
    "# Covid donors cell matrices\n",
    "covid_B = pd.read_csv(\"./all_covid_B_cells.csv\")\n",
    "covid_CD8 = pd.read_csv(\"./all_covid_CD8_cells.csv\")\n",
    "\n",
    "# Healthy donors cell matrices\n",
    "healthy_B = pd.read_csv(\"./all_healthy_B_cells.csv\")\n",
    "healthy_CD8 = pd.read_csv(\"./all_healthy_CD8_cells.csv\")\n",
    "\n",
    "# Reset index to donor's cells\n",
    "covid_B = covid_B.rename(columns={'Unnamed: 0': 'Donor_Cells'})\n",
    "covid_B = covid_B.set_index('Donor_Cells')\n",
    "\n",
    "covid_CD8 = covid_CD8.rename(columns={'Unnamed: 0': 'Donor_Cells'})\n",
    "covid_CD8 = covid_CD8.set_index('Donor_Cells')\n",
    "\n",
    "healthy_B = healthy_B.rename(columns={'Unnamed: 0': 'Donor_Cells'})\n",
    "healthy_B = healthy_B.set_index('Donor_Cells')\n",
    "\n",
    "healthy_CD8 = healthy_CD8.rename(columns={'Unnamed: 0': 'Donor_Cells'})\n",
    "healthy_CD8 = healthy_CD8.set_index('Donor_Cells')"
   ]
  },
  {
   "cell_type": "markdown",
   "metadata": {},
   "source": [
    "Inserting dummy variable to represent COVID status - 1 represents COVID positive donor, 0 represents healthy donor."
   ]
  },
  {
   "cell_type": "code",
   "execution_count": null,
   "metadata": {},
   "outputs": [],
   "source": [
    "# Add dummy variable to datasets, before combining.\n",
    "covid_B_dummy = [1] * len(covid_B)\n",
    "covid_B.insert(1, 'Status', covid_B_dummy)\n",
    "\n",
    "healthy_B_dummy = [0] * len(healthy_B)\n",
    "healthy_B.insert(1, 'Status', healthy_B_dummy)\n",
    "\n",
    "covid_CD8_dummy = [1] * len(covid_CD8)\n",
    "covid_CD8.insert(1, 'Status', covid_CD8_dummy)\n",
    "\n",
    "healthy_CD8_dummy = [0] * len(healthy_CD8)\n",
    "healthy_CD8.insert(1, 'Status', healthy_CD8_dummy)"
   ]
  },
  {
   "cell_type": "code",
   "execution_count": null,
   "metadata": {},
   "outputs": [],
   "source": [
    "# Create combined datasets for both cell types with dummy variable included.\n",
    "combined_B = covid_B.append(healthy_B)\n",
    "combined_CD8 = covid_CD8.append(healthy_CD8)"
   ]
  },
  {
   "cell_type": "code",
   "execution_count": null,
   "metadata": {},
   "outputs": [],
   "source": [
    "# Preview of combined datasets created:\n",
    "print(combined_B.head())\n",
    "print(combined_CD8.head())"
   ]
  },
  {
   "cell_type": "markdown",
   "metadata": {},
   "source": [
    "### Exploratory Data Analysis"
   ]
  },
  {
   "cell_type": "markdown",
   "metadata": {},
   "source": [
    "Arrays which contain how many cells each individual gene is expressed in. For example, value_count_cB[0] would produce how many cells the first gene, '5S-rRNA', in the gene expression matrix is expressed in for the covid B cells dataset."
   ]
  },
  {
   "cell_type": "code",
   "execution_count": null,
   "metadata": {},
   "outputs": [],
   "source": [
    "# Covid B cells count.\n",
    "value_count_cB = [(covid_B[col] != 0).sum() for col in covid_B]\n",
    "# Remove first two columns, which are 'Patient' and 'Status'.\n",
    "value_count_cB = value_count_cB[2:]\n",
    "\n",
    "# Healthy B cells count.\n",
    "value_count_hB = [(healthy_B[col] != 0).sum() for col in healthy_B]\n",
    "# Remove first two columns, which are 'Patient' and 'Status'.\n",
    "value_count_hB = value_count_hB[2:]\n",
    "\n",
    "# Combined COVID and Healthy B cells count.\n",
    "value_count_B = [(combined_B[col] != 0).sum() for col in combined_B]\n",
    "# Remove first two columns, which are 'Patient' and 'Status'.\n",
    "value_count_B = value_count_B[2:]\n",
    "\n",
    "# COVID CD8+ T cells count.\n",
    "value_count_cCD8 = [(covid_CD8[col] != 0).sum() for col in covid_CD8]\n",
    "# Remove first two columns, which are 'Patient' and 'Status'.\n",
    "value_count_cCD8 = value_count_cCD8[2:]\n",
    "\n",
    "# Healthy CD8+ T cells count.\n",
    "value_count_hCD8 = [(healthy_CD8[col] != 0).sum() for col in healthy_CD8]\n",
    "# Remove first two columns, which are 'Patient' and 'Status'.\n",
    "value_count_hCD8 = value_count_hCD8[2:]\n",
    "\n",
    "# Combined COVID and Healthy CD8+ T cells count.\n",
    "value_count_CD8 = [(combined_CD8[col] != 0).sum() for col in combined_CD8]\n",
    "# Remove first two columns, which are 'Patient' and 'Status'.\n",
    "value_count_CD8 = value_count_CD8[2:]"
   ]
  },
  {
   "cell_type": "markdown",
   "metadata": {},
   "source": [
    "Arrays which contain the number of genes expressed in _n_ cells for each dataset, where _n_ = 0, ... , _t_ and _t_ is the total number of cells in that dataset. For example, value_count_cB_overall[0] would produce how many genes are expressed in 0 cells in the covid B cells dataset."
   ]
  },
  {
   "cell_type": "code",
   "execution_count": null,
   "metadata": {},
   "outputs": [],
   "source": [
    "# Covid B cells gene count.\n",
    "value_count_cB_overall = []\n",
    "counter = 0\n",
    "while (counter <= covid_B.shape[0]):\n",
    "    number_of_cells = value_count_cB.count(counter)\n",
    "    value_count_cB_overall.append(number_of_cells)\n",
    "    counter = counter + 1\n",
    "\n",
    "# Healthy B cells gene count.\n",
    "value_count_hB_overall = []\n",
    "counter = 0\n",
    "while (counter <= healthy_B.shape[0]):\n",
    "    number_of_cells = value_count_hB.count(counter)\n",
    "    value_count_hB_overall.append(number_of_cells)\n",
    "    counter = counter + 1\n",
    "    \n",
    "# Combined B cells gene count.\n",
    "value_count_B_overall = []\n",
    "counter = 0\n",
    "while (counter <= combined_B.shape[0]):\n",
    "    number_of_cells = value_count_B.count(counter)\n",
    "    value_count_B_overall.append(number_of_cells)\n",
    "    counter = counter + 1\n",
    "    \n",
    "# Covid CD8+ T cells gene count.\n",
    "value_count_cCD8_overall = []\n",
    "counter = 0\n",
    "while (counter <= covid_CD8.shape[0]):\n",
    "    number_of_cells = value_count_cCD8.count(counter)\n",
    "    value_count_cCD8_overall.append(number_of_cells)\n",
    "    counter = counter + 1\n",
    "    \n",
    "# Healthy CD8+ T cells gene count.\n",
    "value_count_hCD8_overall = []\n",
    "counter = 0\n",
    "while (counter <= healthy_CD8.shape[0]):\n",
    "    number_of_cells = value_count_hCD8.count(counter)\n",
    "    value_count_hCD8_overall.append(number_of_cells)\n",
    "    counter = counter + 1\n",
    "    \n",
    "# Combined CD8+ T cells gene count.\n",
    "value_count_CD8_overall = []\n",
    "counter = 0\n",
    "while (counter <= combined_CD8.shape[0]):\n",
    "    number_of_cells = value_count_CD8.count(counter)\n",
    "    value_count_CD8_overall.append(number_of_cells)\n",
    "    counter = counter + 1"
   ]
  },
  {
   "cell_type": "markdown",
   "metadata": {},
   "source": [
    "Line graph visualising the number of genes expressed in less than 1% of cells for each dataset"
   ]
  },
  {
   "cell_type": "code",
   "execution_count": null,
   "metadata": {},
   "outputs": [],
   "source": [
    "fig, axs = plt.subplots(2,3, figsize=(20,15))\n",
    "\n",
    "# Set maximum range of x-axis to 1% of total number of cells.\n",
    "max_range_cB = int(len(covid_B)/100)\n",
    "max_range_hB = int(len(healthy_B)/100)\n",
    "max_range_B = int(len(combined_B)/100)\n",
    "max_range_cCD8 = int(len(covid_CD8)/100)\n",
    "max_range_hCD8 = int(len(healthy_CD8)/100)\n",
    "max_range_CD8 = int(len(combined_CD8)/100)\n",
    "\n",
    "# Plot each dataset's gene count.\n",
    "axs[0, 0].plot(value_count_cB_overall[:max_range_cB+1])\n",
    "axs[0, 0].set_title(label='Covid B gene count', fontsize=15)\n",
    "axs[0, 1].plot(value_count_hB_overall[:max_range_hB+1])\n",
    "axs[0, 1].set_xticks([0, 5, 10, 15, 20])\n",
    "axs[0, 1].set_title(label='Healthy B gene count', fontsize=15)\n",
    "axs[0, 2].plot(value_count_B_overall[:max_range_B+1])\n",
    "axs[0, 2].set_title(label='Combined B gene count', fontsize=15)\n",
    "axs[1, 0].plot(value_count_cCD8_overall[:max_range_cCD8+1])\n",
    "axs[1, 0].set_title(label='Covid CD8+ T gene count', fontsize=15)\n",
    "axs[1, 1].plot(value_count_hCD8_overall[:max_range_hCD8+1])\n",
    "axs[1, 1].set_title(label='Healthy CD8+ T gene count', fontsize=15)\n",
    "axs[1, 2].plot(value_count_CD8_overall[:max_range_CD8+1])\n",
    "axs[1, 2].set_title(label='Combined CD8+ T gene count', fontsize=15)\n",
    "\n",
    "for ax in axs.flat:\n",
    "    ax.set(xlabel='Number of cells', ylabel='Number of genes',)\n",
    "\n",
    "plt.show()"
   ]
  },
  {
   "cell_type": "markdown",
   "metadata": {},
   "source": [
    "Arrays which contain the gene reads for cells for both cell types. For example, cell_reads_B[500] would return the number of cells from the combined B cells dataset which had 500 genes expressed in them."
   ]
  },
  {
   "cell_type": "code",
   "execution_count": null,
   "metadata": {},
   "outputs": [],
   "source": [
    "# B cells gene reads.\n",
    "combined_B_transposed = combined_B.iloc[:,2:].T\n",
    "cell_reads_B = [(combined_B_transposed[row] != 0).sum() for row in combined_B_transposed]\n",
    "\n",
    "# CD8+ T cells gene reads.\n",
    "combined_CD8_transposed = combined_CD8.iloc[:,2:].T\n",
    "cell_reads_CD8 = [(combined_CD8_transposed[row] != 0).sum() for row in combined_CD8_transposed]"
   ]
  },
  {
   "cell_type": "markdown",
   "metadata": {},
   "source": [
    "Histogram visualising the gene reads of cells for both datasets."
   ]
  },
  {
   "cell_type": "code",
   "execution_count": null,
   "metadata": {},
   "outputs": [],
   "source": [
    "fig, axs = plt.subplots(1,2, figsize=(20,10))\n",
    "\n",
    "axs[0].hist(cell_reads_B, bins=1000)\n",
    "axs[0].set_title(label='Cell reads in B cells', fontsize=15)\n",
    "axs[1].hist(cell_reads_CD8, bins=1000)\n",
    "axs[1].set_title(label='Cell reads in CD8+ T cells', fontsize=15)\n",
    "\n",
    "for ax in axs.flat:\n",
    "    ax.set(xlabel='Number of reads', ylabel='Number of cells',)\n",
    "\n",
    "plt.show()"
   ]
  },
  {
   "cell_type": "markdown",
   "metadata": {},
   "source": [
    "Testing different thresholds to filter out genes expressed in a small percentage of cells."
   ]
  },
  {
   "cell_type": "code",
   "execution_count": null,
   "metadata": {},
   "outputs": [],
   "source": [
    "# Count of how many genes would be removed at different threshholds (0.001 to 0.01 in increments of 0.001).\n",
    "percent = 0.001\n",
    "while (percent < 0.01):\n",
    "    counter = 0\n",
    "    for col in combined_B:\n",
    "        # Ignore columns which are not genes.\n",
    "        if (col == 'Patient' or col == 'Status'):\n",
    "            continue\n",
    "        # Add to counter if gene expression falls under threshold.\n",
    "        if ((combined_B[col] != 0).sum()/len(combined_B) < percent):\n",
    "            counter = counter + 1\n",
    "    print(\"Total number of genes expressed in less than \"+str(round(percent*100,1))+\"% of B cells:\"+str(counter))\n",
    "    percent = percent + 0.001\n",
    "\n",
    "percent = 0.001\n",
    "while (percent < 0.01):\n",
    "    counter = 0\n",
    "    for col in combined_CD8:\n",
    "        # Ignore columns which are not genes.\n",
    "        if (col == 'Patient' or col == 'Status'):\n",
    "            continue\n",
    "        # Add to counter if gene expression falls under threshold.\n",
    "        if ((combined_CD8[col] != 0).sum()/len(combined_CD8) < percent):\n",
    "            counter = counter + 1\n",
    "    print(\"Total number of genes expressed in less than \"+ str(round(percent*100,1)) +\"% of CD8+ T cells:\"+str(counter))\n",
    "    percent = percent + 0.001"
   ]
  },
  {
   "cell_type": "code",
   "execution_count": null,
   "metadata": {},
   "outputs": [],
   "source": [
    "# Count of how many genes would be removed at different threshholds (0.01 to 0.1, or 1% to 10%, in increments of 0.01).\n",
    "percent = 0.01\n",
    "while (percent <= 0.1):\n",
    "    counter = 0\n",
    "    for col in combined_B:\n",
    "        # Ignore columns which are not genes.\n",
    "        if (col == 'Patient' or col == 'Status'):\n",
    "            continue\n",
    "        # Add to counter if gene expression falls under threshold.\n",
    "        if ((combined_B[col] != 0).sum()/len(combined_B) < percent):\n",
    "            counter = counter + 1\n",
    "    print(\"Total number of genes expressed in less than \"+str(int(percent*100))+\"% of B cells:\"+str(counter))\n",
    "    # Increase threshold by chosen increment.\n",
    "    percent = percent + 0.01\n",
    "\n",
    "percent = 0.01\n",
    "while (percent <= 0.1):\n",
    "    counter = 0\n",
    "    for col in combined_CD8:\n",
    "        # Ignore columns which are not genes.\n",
    "        if (col == 'Patient' or col == 'Status'):\n",
    "            continue\n",
    "        # Add to counter if gene expression falls under threshold.\n",
    "        if ((combined_CD8[col] != 0).sum()/len(combined_CD8) < percent):\n",
    "            counter = counter + 1\n",
    "    print(\"Total number of genes expressed in less than \"+ str(int(percent*100)) +\"% of CD8+ T cells:\"+str(counter))\n",
    "    percent = percent + 0.01"
   ]
  },
  {
   "cell_type": "markdown",
   "metadata": {},
   "source": [
    "Array containing genes which will be removed due to being present in less than 1% of cells."
   ]
  },
  {
   "cell_type": "code",
   "execution_count": null,
   "metadata": {},
   "outputs": [],
   "source": [
    "B_genes_removed = []\n",
    "for col in combined_B:\n",
    "    if (col == 'Patient' or col == 'Status'):\n",
    "        continue\n",
    "    if ((combined_B[col] != 0).sum()/len(combined_B) < 0.01):\n",
    "        B_genes_removed.append(col)\n",
    "print(\"Total number of genes expressed in less than 1% of B cells:\"+str(len(B_genes_removed)))\n",
    "\n",
    "CD8_genes_removed = []\n",
    "for col in combined_CD8:\n",
    "    if (col == 'Patient' or col == 'Status'):\n",
    "        continue\n",
    "    if ((combined_CD8[col] != 0).sum()/len(combined_CD8) < 0.01):\n",
    "        CD8_genes_removed.append(col)\n",
    "print(\"Total number of genes expressed in less than 1% of CD8+ T cells:\"+str(len(CD8_genes_removed)))"
   ]
  },
  {
   "cell_type": "markdown",
   "metadata": {},
   "source": [
    "Creating datasets with genes present in less than 1% of cells filtered out."
   ]
  },
  {
   "cell_type": "code",
   "execution_count": null,
   "metadata": {},
   "outputs": [],
   "source": [
    "combined_B_filtered = combined_B.drop(B_genes_removed, axis = 1)\n",
    "combined_CD8_filtered = combined_CD8.drop(CD8_genes_removed, axis = 1)\n",
    "covid_B_filtered = covid_B.drop(B_genes_removed, axis = 1)\n",
    "healthy_B_filtered = healthy_B.drop(B_genes_removed, axis = 1)\n",
    "covid_CD8_filtered = covid_CD8.drop(CD8_genes_removed, axis = 1)\n",
    "healthy_CD8_filtered = healthy_CD8.drop(CD8_genes_removed, axis = 1)"
   ]
  },
  {
   "cell_type": "markdown",
   "metadata": {},
   "source": [
    "### Dimensionality Reduction - UMAP"
   ]
  },
  {
   "cell_type": "markdown",
   "metadata": {},
   "source": [
    "Courtesy to: https://chanzuckerberg.github.io/scRNA-python-workshop"
   ]
  },
  {
   "cell_type": "markdown",
   "metadata": {},
   "source": [
    "##### CODE FOR B CELLS:"
   ]
  },
  {
   "cell_type": "markdown",
   "metadata": {},
   "source": [
    "Creating expression matrix:"
   ]
  },
  {
   "cell_type": "code",
   "execution_count": null,
   "metadata": {},
   "outputs": [],
   "source": [
    "# Note that this expression matrix will contain the original cell count.\n",
    "bcells = combined_B_filtered.loc[:, ~combined_B_filtered.columns.isin(['Patient', 'Status'])]\n",
    "bcells_count = bcells.transform(func = lambda x : 10 ** x - 1)"
   ]
  },
  {
   "cell_type": "markdown",
   "metadata": {},
   "source": [
    "Creating metadata:"
   ]
  },
  {
   "cell_type": "code",
   "execution_count": null,
   "metadata": {},
   "outputs": [],
   "source": [
    "metadata = combined_B_filtered[['Patient','Status']]\n",
    "metadata_df = pd.DataFrame(metadata, columns=['Patient','Status'])\n",
    "print(metadata_df)"
   ]
  },
  {
   "cell_type": "code",
   "execution_count": null,
   "metadata": {},
   "outputs": [],
   "source": [
    "# Creating an AnnData object\n",
    "adata = sc.AnnData(X = bcells_count, obs = metadata_df)\n",
    "adata.write('./bcells_raw.h5ad') # the h5ad extension is AnnData-specific"
   ]
  },
  {
   "cell_type": "markdown",
   "metadata": {},
   "source": [
    "Normalising gene expression:"
   ]
  },
  {
   "cell_type": "code",
   "execution_count": null,
   "metadata": {},
   "outputs": [],
   "source": [
    "adata = sc.read('./bcells_raw.h5ad')\n",
    "\n",
    "# The simplest way to normalize this data is to convert it to counts per million (CPM)  \n",
    "adata_cpm = adata.copy() # apply this to a copy so we can compare methods\n",
    "adata_cpm.raw = adata_cpm # store a copy of the raw values before normalizing\n",
    "sc.pp.normalize_per_cell(adata_cpm, counts_per_cell_after=1e6)\n",
    "\n",
    "# We used this method to normalise our data\n",
    "sc.pp.log1p(adata_cpm)\n",
    "sc.pp.scale(adata_cpm)\n",
    "\n",
    "adata_cpm.write('./bcells_normalized.h5ad')"
   ]
  },
  {
   "cell_type": "markdown",
   "metadata": {},
   "source": [
    "Choosing UMAP parameters (for min_dist and n_components):"
   ]
  },
  {
   "cell_type": "code",
   "execution_count": null,
   "metadata": {},
   "outputs": [],
   "source": [
    "adata = sc.read('./bcells_normalized.h5ad')\n",
    "sc.pp.neighbors(adata) # UMAP is based on the neighbor graph; we'll compute this first\n",
    "sc.tl.umap(adata, min_dist=0.1,spread = 1.1, random_state=1, n_components=20)\n",
    "sc.pl.umap(adata, color='Status')"
   ]
  },
  {
   "cell_type": "code",
   "execution_count": null,
   "metadata": {},
   "outputs": [],
   "source": [
    "# Compare different plots to see which parameter values are the best\n",
    "umap2 = sc.tl.umap(adata,min_dist=0.1,spread=1.1, n_components=2, copy=True)\n",
    "umap10 = sc.tl.umap(adata,min_dist=0.1,spread=1.1, n_components=10, copy=True)\n",
    "umap15 = sc.tl.umap(adata,min_dist=0.1,spread=1.1, n_components=15, copy=True)\n",
    "umap20 = sc.tl.umap(adata,min_dist=0.1,spread=1.1, n_components=20, copy=True)\n",
    "umap30 = sc.tl.umap(adata,min_dist=0.1,spread=1.1, n_components=30, copy=True)\n",
    "\n",
    "# When min distance is 0.1\n",
    "fig, axs = plt.subplots(1, 5,figsize=(30,5),constrained_layout=True)\n",
    "sc.pl.umap(umap2, color='Status', title=\"UMAP2\", show=False, ax=axs[0])\n",
    "sc.pl.umap(umap10, color='Status', title=\"UMAP10\", show=False, ax=axs[1])\n",
    "sc.pl.umap(umap15, color='Status', title=\"UMAP15\", show=False, ax=axs[2])\n",
    "sc.pl.umap(umap20, color='Status', title=\"UMAP20\", show=False, ax=axs[3])\n",
    "sc.pl.umap(umap30, color='Status',  title=\"UMAP30\", show=False, ax = axs[4]) "
   ]
  },
  {
   "cell_type": "code",
   "execution_count": null,
   "metadata": {},
   "outputs": [],
   "source": [
    "adata.write('./bcells_embeddings.h5ad')\n",
    "print(adata.obsm['X_umap']) # UMAP co-ordinates"
   ]
  },
  {
   "cell_type": "markdown",
   "metadata": {},
   "source": [
    "Clustering plots generated using k-means clustering:"
   ]
  },
  {
   "cell_type": "code",
   "execution_count": null,
   "metadata": {},
   "outputs": [],
   "source": [
    "adata = sc.read('./bcells_embeddings.h5ad')\n",
    "\n",
    "# K-means clustering:\n",
    "umap_coordinates = adata.obsm['X_umap'] # extract the UMAP coordinates for each cell\n",
    "kmeans = KMeans(n_clusters=4, random_state=0).fit(umap_coordinates) # fix the random state for reproducibility\n",
    "\n",
    "adata.obs['kmeans'] = kmeans.labels_ # retrieve the labels and add them as a metadata column in our AnnData object\n",
    "adata.obs['kmeans'] = adata.obs['kmeans'].astype(str)\n",
    "\n",
    "sc.pl.umap(adata, color='kmeans') # plot the results"
   ]
  },
  {
   "cell_type": "markdown",
   "metadata": {},
   "source": [
    "Clustering plots generated using graph-based louvain clustering method:"
   ]
  },
  {
   "cell_type": "code",
   "execution_count": null,
   "metadata": {},
   "outputs": [],
   "source": [
    "sc.tl.louvain(adata, resolution=0.1)\n",
    "sc.pl.umap(adata, color='Status')\n",
    "rand_index = adjusted_rand_score(adata.obs['Status'], adata.obs['louvain'])"
   ]
  },
  {
   "cell_type": "code",
   "execution_count": null,
   "metadata": {},
   "outputs": [],
   "source": [
    "sc.tl.louvain(adata, resolution=0.1)\n",
    "sc.pl.umap(adata, color='louvain')"
   ]
  },
  {
   "cell_type": "code",
   "execution_count": null,
   "metadata": {},
   "outputs": [],
   "source": [
    "adata.write('./bcells_clusters.h5ad')"
   ]
  },
  {
   "cell_type": "markdown",
   "metadata": {},
   "source": [
    "Creating dataframes for clusters:"
   ]
  },
  {
   "cell_type": "code",
   "execution_count": null,
   "metadata": {},
   "outputs": [],
   "source": [
    "adata = sc.read('./bcells_clusters.h5ad')\n",
    "# Raw counts\n",
    "raw = pd.DataFrame(data=adata.raw.X, index=adata.raw.obs_names, columns=adata.raw.var_names)\n",
    "\n",
    "# Metadata - print Status, Patient and Louvain columns\n",
    "metadata = adata.obs\n",
    "\n",
    "# merge datasets\n",
    "raw.reset_index(drop=True, inplace=True)\n",
    "metadata.reset_index(drop=True, inplace=True)\n",
    "combined_bcells = raw.join(metadata.iloc[:,[0,1,4]])\n",
    "\n",
    "# Export datasets for clusters 0, 1 and 2\n",
    "cluster0_results = combined_bcells[combined_bcells.louvain == '0']\n",
    "print(cluster0_results)\n",
    "cluster0_results.to_csv('./cluster0_bcells.csv', index = False, header=True)\n",
    "\n",
    "cluster1_results = combined_bcells[combined_bcells.louvain == '1']\n",
    "print(cluster1_results)\n",
    "cluster1_results.to_csv('./cluster1_bcells.csv', index = False, header=True)\n",
    "\n",
    "cluster2_results = combined_bcells[combined_bcells.louvain == '2']\n",
    "print(cluster2_results)\n",
    "cluster2_results.to_csv('./cluster2_bcells.csv', index = False, header=True)"
   ]
  },
  {
   "cell_type": "markdown",
   "metadata": {},
   "source": [
    "##### CODE FOR CD8+ T CELLS:"
   ]
  },
  {
   "cell_type": "markdown",
   "metadata": {},
   "source": [
    "Creating expression matrix:"
   ]
  },
  {
   "cell_type": "code",
   "execution_count": null,
   "metadata": {},
   "outputs": [],
   "source": [
    "# Note that this expression matrix will contain the original cell count.\n",
    "cd8_cells = combined_CD8_filtered.loc[:, ~combined_CD8_filtered.columns.isin(['Patient', 'Status'])]\n",
    "cd8_cells_count = cd8_cells.transform(func = lambda x : 10 ** x - 1)"
   ]
  },
  {
   "cell_type": "markdown",
   "metadata": {},
   "source": [
    "Creating metadata:"
   ]
  },
  {
   "cell_type": "code",
   "execution_count": null,
   "metadata": {},
   "outputs": [],
   "source": [
    "metadata = combined_CD8_filtered[['Patient','Status']]\n",
    "metadata_df = pd.DataFrame(metadata, columns=['Patient','Status'])\n",
    "print(metadata_df)"
   ]
  },
  {
   "cell_type": "code",
   "execution_count": null,
   "metadata": {},
   "outputs": [],
   "source": [
    "# Creating an AnnData object\n",
    "adata = sc.AnnData(X = cd8_cells_count, obs = metadata_df)\n",
    "adata.write('./cd8cells_raw.h5ad') # the h5ad extension is AnnData-specific"
   ]
  },
  {
   "cell_type": "markdown",
   "metadata": {},
   "source": [
    "Normalising gene expression:"
   ]
  },
  {
   "cell_type": "code",
   "execution_count": null,
   "metadata": {},
   "outputs": [],
   "source": [
    "adata = sc.read('./cd8cells_raw.h5ad')\n",
    "\n",
    "# The simplest way to normalize this data is to convert it to counts per million (CPM)  \n",
    "adata_cpm = adata.copy() # apply this to a copy so we can compare methods\n",
    "adata_cpm.raw = adata_cpm # store a copy of the raw values before normalizing\n",
    "sc.pp.normalize_per_cell(adata_cpm, counts_per_cell_after=1e6)\n",
    "# We used this method to normalise our data\n",
    "sc.pp.log1p(adata_cpm)\n",
    "sc.pp.scale(adata_cpm)\n",
    "\n",
    "adata_cpm.write('./cd8cells_normalized.h5ad')"
   ]
  },
  {
   "cell_type": "markdown",
   "metadata": {},
   "source": [
    "Choosing UMAP parameters (for min_dist and n_components):"
   ]
  },
  {
   "cell_type": "code",
   "execution_count": null,
   "metadata": {},
   "outputs": [],
   "source": [
    "adata = sc.read('./cd8cells_normalized.h5ad')\n",
    "sc.pp.neighbors(adata) # UMAP is based on the neighbor graph; we'll compute this first\n",
    "sc.tl.umap(adata, min_dist=0.1,spread = 1.1, random_state=1, n_components=30)\n",
    "sc.pl.umap(adata, color='Status')"
   ]
  },
  {
   "cell_type": "code",
   "execution_count": null,
   "metadata": {},
   "outputs": [],
   "source": [
    "# Compare different plots to see which parameter values are the best\n",
    "umap2 = sc.tl.umap(adata,min_dist=0.1,spread=1.1, n_components=2, copy=True)\n",
    "umap10 = sc.tl.umap(adata,min_dist=0.1,spread=1.1, n_components=10, copy=True)\n",
    "umap15 = sc.tl.umap(adata,min_dist=0.1,spread=1.1, n_components=15, copy=True)\n",
    "umap20 = sc.tl.umap(adata,min_dist=0.1,spread=1.1, n_components=20, copy=True)\n",
    "umap30 = sc.tl.umap(adata,min_dist=0.1,spread=1.1, n_components=30, copy=True)\n",
    "\n",
    "# When min distance is 0.1\n",
    "fig, axs = plt.subplots(1, 5,figsize=(30,5),constrained_layout=True)\n",
    "sc.pl.umap(umap2, color='Status', title=\"UMAP2\", show=False, ax=axs[0])\n",
    "sc.pl.umap(umap10, color='Status', title=\"UMAP10\", show=False, ax=axs[1])\n",
    "sc.pl.umap(umap15, color='Status', title=\"UMAP15\", show=False, ax=axs[2])\n",
    "sc.pl.umap(umap20, color='Status', title=\"UMAP20\", show=False, ax=axs[3])\n",
    "sc.pl.umap(umap30, color='Status',  title=\"UMAP30\", show=False, ax = axs[4]) "
   ]
  },
  {
   "cell_type": "code",
   "execution_count": null,
   "metadata": {},
   "outputs": [],
   "source": [
    "adata.write('./cd8cells_embeddings.h5ad')\n",
    "print(adata.obsm['X_umap']) # UMAP co-ordinates"
   ]
  },
  {
   "cell_type": "markdown",
   "metadata": {},
   "source": [
    "Clustering plots generated using k-means clustering:"
   ]
  },
  {
   "cell_type": "code",
   "execution_count": null,
   "metadata": {},
   "outputs": [],
   "source": [
    "adata = sc.read('./cd8cells_embeddings.h5ad')\n",
    "\n",
    "# K-means clustering:\n",
    "umap_coordinates = adata.obsm['X_umap'] # extract the UMAP coordinates for each cell\n",
    "kmeans = KMeans(n_clusters=4, random_state=0).fit(umap_coordinates) # fix the random state for reproducibility\n",
    "\n",
    "adata.obs['kmeans'] = kmeans.labels_ # retrieve the labels and add them as a metadata column in our AnnData object\n",
    "adata.obs['kmeans'] = adata.obs['kmeans'].astype(str)\n",
    "\n",
    "sc.pl.umap(adata, color='kmeans') # plot the results"
   ]
  },
  {
   "cell_type": "markdown",
   "metadata": {},
   "source": [
    "Clustering plots generated using graph-based louvain clustering method:"
   ]
  },
  {
   "cell_type": "code",
   "execution_count": null,
   "metadata": {},
   "outputs": [],
   "source": [
    "sc.tl.louvain(adata, resolution=0.1)\n",
    "sc.pl.umap(adata, color='Status')\n",
    "rand_index = adjusted_rand_score(adata.obs['Status'], adata.obs['louvain'])"
   ]
  },
  {
   "cell_type": "code",
   "execution_count": null,
   "metadata": {},
   "outputs": [],
   "source": [
    "sc.tl.louvain(adata, resolution=0.1)\n",
    "sc.pl.umap(adata, color='louvain')"
   ]
  },
  {
   "cell_type": "code",
   "execution_count": null,
   "metadata": {},
   "outputs": [],
   "source": [
    "adata.write('./cd8cells_clusters.h5ad')"
   ]
  },
  {
   "cell_type": "markdown",
   "metadata": {},
   "source": [
    "Creating dataframes for clusters:"
   ]
  },
  {
   "cell_type": "code",
   "execution_count": null,
   "metadata": {},
   "outputs": [],
   "source": [
    "adata = sc.read('./cd8cells_clusters.h5ad')\n",
    "\n",
    "# Raw counts \n",
    "raw = pd.DataFrame(data=adata.raw.X, index=adata.raw.obs_names, columns=adata.raw.var_names)\n",
    "\n",
    "# Metadata - print Status, Patient and Louvain columns\n",
    "metadata = adata.obs\n",
    "print(metadata.iloc[:,[0,1,4]])\n",
    "\n",
    "# merge datasets\n",
    "raw.reset_index(drop=True, inplace=True)\n",
    "metadata.reset_index(drop=True, inplace=True)\n",
    "combined_cd8cells = raw.join(metadata.iloc[:,[0,1,4]])\n",
    "print(combined_cd8cells)\n",
    "\n",
    "# Export datasets for clusters 0 and 1\n",
    "cluster0_results = combined_cd8cells[combined_cd8cells.louvain == '0']\n",
    "print(cluster0_results)\n",
    "cluster0_results.to_csv('./cluster0_cd8cells.csv', index = False, header=True)\n",
    "\n",
    "cluster1_results = combined_cd8cells[combined_cd8cells.louvain == '1']\n",
    "print(cluster1_results)\n",
    "cluster1_results.to_csv('./cluster1_cd8cells.csv', index = False, header=True)"
   ]
  },
  {
   "cell_type": "markdown",
   "metadata": {},
   "source": [
    "### Volcano Plots"
   ]
  },
  {
   "cell_type": "markdown",
   "metadata": {},
   "source": [
    "#### Volcano plots created on data prior to UMAP filtering:"
   ]
  },
  {
   "cell_type": "markdown",
   "metadata": {},
   "source": [
    "##### CODE FOR B CELLS:"
   ]
  },
  {
   "cell_type": "markdown",
   "metadata": {},
   "source": [
    "Transforming data back to original counts:"
   ]
  },
  {
   "cell_type": "code",
   "execution_count": null,
   "metadata": {},
   "outputs": [],
   "source": [
    "total_b_original = combined_B.transform(func = lambda x : 10 ** x - 1)"
   ]
  },
  {
   "cell_type": "markdown",
   "metadata": {},
   "source": [
    "Calculating p-values on original count data:"
   ]
  },
  {
   "cell_type": "code",
   "execution_count": null,
   "metadata": {},
   "outputs": [],
   "source": [
    "pvalues = stats.ttest_ind(total_b_original.iloc[:3028,:],total_b_original.iloc[3028:,:],equal_var=False)[1]\n",
    "# Remove 'Patient' and 'Status' column p-values\n",
    "pvalues1 = pvalues[2:]"
   ]
  },
  {
   "cell_type": "markdown",
   "metadata": {},
   "source": [
    "Performing multiple testing correction:"
   ]
  },
  {
   "cell_type": "code",
   "execution_count": null,
   "metadata": {},
   "outputs": [],
   "source": [
    "print(len(pvalues1[np.where(pvalues1<0.05)]))\n",
    "\n",
    "# Bonferroni correction\n",
    "# Get Bonferroni corrected P-value, which is 0.0001\n",
    "bf_p = 0.05/10267\n",
    "# count P-values < bf_p\n",
    "# output: 0\n",
    "print(\"After Bonferroni: \"+str(len(pvalues1[np.where(pvalues1<bf_p)])))\n",
    "\n",
    "# Benjamini and Hochberg FDR at alpha=0.05\n",
    "y=multipletests(pvals=pvalues1, alpha=0.05, method=\"fdr_bh\")\n",
    "# output: 0\n",
    "print(\"After Benjamini/Hochberg correction :\"+str(len(y[1][np.where(y[1]<0.05)])))  # y[1] returns corrected P-vals (array)"
   ]
  },
  {
   "cell_type": "code",
   "execution_count": null,
   "metadata": {},
   "outputs": [],
   "source": [
    "to_append = list(pvalues)\n",
    "pvalues = len(total_b_original)\n",
    "total_b_original.loc[pvalues] = to_append"
   ]
  },
  {
   "cell_type": "markdown",
   "metadata": {},
   "source": [
    "Calculating log fold change:"
   ]
  },
  {
   "cell_type": "code",
   "execution_count": null,
   "metadata": {},
   "outputs": [],
   "source": [
    "covid_mean = total_b_original.iloc[:3028,:].mean()\n",
    "healthy_mean = total_b_original.iloc[3028:,:].mean()\n",
    "# To prevent undefined fold changes, any mean values = 0 were replaced with 0.0001\n",
    "healthy_mean[healthy_mean == 0] = 0.0001\n",
    "\n",
    "fold_change = (covid_mean/healthy_mean) \n",
    "fold_change = np.log2(fold_change)\n",
    "\n",
    "to_append = list(fold_change)\n",
    "fold_change = len(total_b_original)\n",
    "total_b_original.loc[fold_change] = to_append"
   ]
  },
  {
   "cell_type": "markdown",
   "metadata": {},
   "source": [
    "Finding most significant genes using various filters:"
   ]
  },
  {
   "cell_type": "code",
   "execution_count": null,
   "metadata": {},
   "outputs": [],
   "source": [
    "total_b_transposed = total_b_original.T\n",
    "total_b_transposed = total_b_transposed.iloc[2:,:]\n",
    "total_b_transposed['pvalues'] = total_b_transposed.iloc[:,-2]\n",
    "total_b_transposed['log2FC'] = total_b_transposed.iloc[:,-2]\n",
    "total_b_transposed['GeneNames'] = total_b_transposed.index\n",
    "\n",
    "# Counting how many were significant\n",
    "print(\"Total number of significant genes: \"+str(total_b_transposed[total_b_transposed['pvalues'] < 0.05].shape[0]))\n",
    "\n",
    "# Filter by p-value only, top 10 most signficant genes\n",
    "print(\"P-value only filtered:\")\n",
    "print(total_b_transposed.nsmallest(10,['pvalues']))\n",
    "\n",
    "# Filtering by |log2FC| >= 1\n",
    "logFC_gt1_b = total_b_transposed[abs(total_b_transposed['log2FC']) >= 1]\n",
    "# Top 20 most significant genes\n",
    "print(\"P-value and log2 fold change filtered:\")\n",
    "print(logFC_gt1_b.nsmallest(20,['pvalues']).iloc[:,-3:])"
   ]
  },
  {
   "cell_type": "markdown",
   "metadata": {},
   "source": [
    "Visualising signficant genes using volcano plots:"
   ]
  },
  {
   "cell_type": "code",
   "execution_count": null,
   "metadata": {},
   "outputs": [],
   "source": [
    "# P-value only filtered plot (labelled)\n",
    "visuz.gene_exp.volcano(df=total_b_transposed, lfc='log2FC', pv='pvalues', plotlegend=True, legendpos='upper right', \n",
    "    legendanchor=(1.46,1),gstyle=2, sign_line=True, geneid=\"GeneNames\",\n",
    "    genenames=({\"MT-CO1\":\"MT-CO1\",\n",
    "                \"HLA-DPB1\":\"HLA-DPB1\",\n",
    "                \"CD74\":\"CD74\",\n",
    "                \"HLA-DRA\":\"HLA-DRA\",\n",
    "                \"RPL13A\":\"RPL13A\",\n",
    "                \"HLA-DQB1\":\"HLA-DQB1\",\n",
    "                \"GLTSCR2\":\"GLTSCR2\",\n",
    "                \"RPS4X\":\"RPS4X\",\n",
    "                \"RPL3\":\"RPL3\",\n",
    "                \"RPS3\":\"RPS3\"}), show=True)\n",
    "\n",
    "# P-value and log2 fold change filtered plot (labelled)\n",
    "visuz.gene_exp.volcano(df=total_b_transposed, lfc='log2FC', pv='pvalues', plotlegend=True, legendpos='upper right', \n",
    "    legendanchor=(1.46,1),gstyle=2, sign_line=True, geneid=\"GeneNames\",\n",
    "    genenames=({\"CD74\":\"CD74\",\n",
    "                 \"HLA-DPB1\":\"HLA-DPB1\",\n",
    "                 \"HLA-DRA\":\"HLA-DRA\",\n",
    "                 \"GLTSCR2\":\"GLTSCR2\",\n",
    "                 \"IFI27\":\"IFI27\",\n",
    "                 \"MS4A1\":\"MS4A1\",\n",
    "                 \"AC009501.4\":\"AC009501.4\",\n",
    "                 \"HLA-DQB1\":\"HLA-DQB1\",\n",
    "                 \"RPS3A\":\"RPS3A\",\n",
    "                 \"RPL9\":\"RPL9\",\n",
    "                 \"IFI6\":\"IFI6\",\n",
    "                 \"HLA-DPA1\":\"HLA-DPA1\",\n",
    "                 \"IGHG4\":\"IGHG4\",\n",
    "                 \"MX1\":\"MX1\",\n",
    "                 \"LTB\":\"LTB\",\n",
    "                 \"CD79B\":\"CD79B\",\n",
    "                 \"CD79A\":\"CD79A\",\n",
    "                 \"XBP1\":\"XBP1\",\n",
    "                 \"ELL2\":\"ELL2\",\n",
    "                 \"CALR\":\"CALR\"}), show=True)"
   ]
  },
  {
   "cell_type": "markdown",
   "metadata": {},
   "source": [
    "##### CODE FOR CD8+ T CELLS:"
   ]
  },
  {
   "cell_type": "markdown",
   "metadata": {},
   "source": [
    "Transforming data back to original counts:"
   ]
  },
  {
   "cell_type": "code",
   "execution_count": null,
   "metadata": {},
   "outputs": [],
   "source": [
    "total_cd8_original = combined_CD8.transform(func = lambda x : 10 ** x - 1)"
   ]
  },
  {
   "cell_type": "markdown",
   "metadata": {},
   "source": [
    "Calculating p-values on original count data:"
   ]
  },
  {
   "cell_type": "code",
   "execution_count": null,
   "metadata": {},
   "outputs": [],
   "source": [
    "pvalues = stats.ttest_ind(total_cd8_original.iloc[:3877,:],total_cd8_original.iloc[3877:,:],equal_var=False)[1]\n",
    "# Remove 'Patient' and 'Status' column p-values\n",
    "pvalues1 = pvalues[2:]"
   ]
  },
  {
   "cell_type": "markdown",
   "metadata": {},
   "source": [
    "Performing multiple testing correction:"
   ]
  },
  {
   "cell_type": "code",
   "execution_count": null,
   "metadata": {},
   "outputs": [],
   "source": [
    "print(len(pvalues1[np.where(pvalues1<0.05)]))\n",
    "\n",
    "# Bonferroni correction\n",
    "# Get Bonferroni corrected P-value, which is 0.0001\n",
    "bf_p = 0.05/10113\n",
    "# count P-values < bf_p\n",
    "# output: 0\n",
    "print(\"After Bonferroni: \"+str(len(pvalues1[np.where(pvalues1<bf_p)])))\n",
    "\n",
    "# Benjamini and Hochberg FDR at alpha=0.05\n",
    "y=multipletests(pvals=pvalues1, alpha=0.05, method=\"fdr_bh\")\n",
    "# output: 0\n",
    "print(\"After Benjamini/Hochberg correction :\"+str(len(y[1][np.where(y[1]<0.05)])))  # y[1] returns corrected P-vals (array)"
   ]
  },
  {
   "cell_type": "code",
   "execution_count": null,
   "metadata": {},
   "outputs": [],
   "source": [
    "to_append = list(pvalues)\n",
    "pvalues = len(total_b_original)\n",
    "total_b_original.loc[pvalues] = to_append"
   ]
  },
  {
   "cell_type": "markdown",
   "metadata": {},
   "source": [
    "Calculating log fold change:"
   ]
  },
  {
   "cell_type": "code",
   "execution_count": null,
   "metadata": {},
   "outputs": [],
   "source": [
    "covid_mean = total_cd8_original.iloc[:3877,:].mean()\n",
    "healthy_mean = total_cd8_original.iloc[3877:,:].mean()\n",
    "\n",
    "fold_change = (covid_mean/healthy_mean) \n",
    "fold_change = np.log2(fold_change)\n",
    "\n",
    "to_append = list(fold_change)\n",
    "fold_change = len(total_cd8_original)\n",
    "total_cd8_original.loc[fold_change] = to_append"
   ]
  },
  {
   "cell_type": "markdown",
   "metadata": {},
   "source": [
    "Finding most significant genes using various filters:"
   ]
  },
  {
   "cell_type": "code",
   "execution_count": null,
   "metadata": {},
   "outputs": [],
   "source": [
    "total_cd8_transposed = total_cd8_original.T\n",
    "total_cd8_transposed = total_cd8_transposed.iloc[2:,:]\n",
    "total_cd8_transposed['pvalues'] = total_cd8_transposed.iloc[:,-2]\n",
    "total_cd8_transposed['log2FC'] = total_cd8_transposed.iloc[:,-2]\n",
    "total_cd8_transposed['GeneNames'] = total_cd8_transposed.index\n",
    "\n",
    "# Counting how many were significant\n",
    "print(\"Total number of significant genes: \"+str(total_cd8_transposed[total_cd8_transposed['pvalues'] < 0.05].shape[0]))\n",
    "\n",
    "# Filter by p-value only, top 10 sigificant genes\n",
    "print(\"P-value only filtered:\")\n",
    "print(total_cd8_transposed.nsmallest(10,['pvalues']))\n",
    "\n",
    "# Filtering by |log2FC| >= 1\n",
    "logFC_gt1_cd8 = total_cd8_transposed[abs(total_cd8_transposed['log2FC']) >= 1]\n",
    "# Top 20 most significant genes\n",
    "print(\"P-value and log2 fold change filtered:\")\n",
    "print(logFC_gt1_cd8.nsmallest(20,['pvalues']).iloc[:,-3:])"
   ]
  },
  {
   "cell_type": "markdown",
   "metadata": {},
   "source": [
    "Visualising signficant genes using volcano plots:"
   ]
  },
  {
   "cell_type": "code",
   "execution_count": null,
   "metadata": {},
   "outputs": [],
   "source": [
    "# P-value only filtered plot (labelled)\n",
    "visuz.gene_exp.volcano(df=total_cd8_transposed, lfc='log2FC', pv='pvalues', plotlegend=True, legendpos='upper right', \n",
    "    legendanchor=(1.46,1),gstyle=2, sign_line=True, geneid=\"GeneNames\",\n",
    "    genenames=({\"MT-CO1\":\"MT-CO1\",\n",
    "                \"MT-ND4\":\"MT-ND4\",\n",
    "                \"MT-CYB\":\"MT-CYB\",\n",
    "                \"MT-ND6\":\"MT-ND6\",\n",
    "                \"MT-ND5\":\"MT-ND5\",\n",
    "                \"MT-ATP6\":\"MT-ATP6\",\n",
    "                \"MALAT1\":\"MALAT1\",\n",
    "                \"MT-CO2\":\"MT-CO2\",\n",
    "                \"RPS3\":\"RPS3\",\n",
    "                \"RPS4X\":\"RPS4X\"}))\n",
    "\n",
    "# P-value and log2 fold change filtered plot (labelled)\n",
    "visuz.gene_exp.volcano(df=total_cd8_transposed, lfc='log2FC', pv='pvalues', plotlegend=True, legendpos='upper right', \n",
    "    legendanchor=(1.46,1),gstyle=2, sign_line=True, geneid=\"GeneNames\",\n",
    "    genenames=({\"MT-CO1\":\"MT-CO1\",\n",
    "                 \"MT-ND4\":\"MT-ND4\",\n",
    "                 \"MT-CYB\":\"MT-CYB\",\n",
    "                 \"MT-ND6\":\"MT-ND6\",\n",
    "                 \"MT-ND5\":\"MT-ND5\",\n",
    "                 \"MT-ATP6\":\"MT-ATP6\",\n",
    "                 \"XAF1\":\"XAF1\",\n",
    "                 \"IFI44L\":\"IFI44L\",\n",
    "                 \"MT-CO3\":\"MT-CO3\",\n",
    "                 \"IFI44\":\"IFI44\",\n",
    "                 \"MX1\":\"MX1\",\n",
    "                 \"OAS3\":\"OAS3\",\n",
    "                 \"PARP9\":\"PARP9\",\n",
    "                 \"SUN2\":\"SUN2\",\n",
    "                 \"EIF2AK2\":\"EIF2AK2\",\n",
    "                 \"IFIT3\":\"IFIT3\",\n",
    "                 \"EPSTI1\":\"EPSTI1\",\n",
    "                 \"DTX3L\":\"DTX3L\",\n",
    "                 \"IFI6\":\"IFI6\",\n",
    "                 \"ISG15\":\"ISG15\"}))"
   ]
  },
  {
   "cell_type": "markdown",
   "metadata": {},
   "source": [
    "#### Volcano plots created on data post UMAP filtering:"
   ]
  },
  {
   "cell_type": "markdown",
   "metadata": {},
   "source": [
    "##### CODE FOR B CELLS:"
   ]
  },
  {
   "cell_type": "markdown",
   "metadata": {},
   "source": [
    "CLUSTER 0:"
   ]
  },
  {
   "cell_type": "markdown",
   "metadata": {},
   "source": [
    "Transforming data back to original counts:"
   ]
  },
  {
   "cell_type": "code",
   "execution_count": null,
   "metadata": {},
   "outputs": [],
   "source": [
    "cluster0_results = pd.read_csv(\"./cluster0_bcells.csv\")\n",
    "cluster0_results = cluster0_results.iloc[:,:-3].transform(lambda x: np.log10(x+1))"
   ]
  },
  {
   "cell_type": "markdown",
   "metadata": {},
   "source": [
    "Calculating p-values on original count data:"
   ]
  },
  {
   "cell_type": "code",
   "execution_count": null,
   "metadata": {},
   "outputs": [],
   "source": [
    "pvalues1 = stats.ttest_ind(cluster0_results.iloc[:1387,:],cluster0_results.iloc[1387:,:],equal_var=False)[1]"
   ]
  },
  {
   "cell_type": "markdown",
   "metadata": {},
   "source": [
    "Performing multiple testing correction:"
   ]
  },
  {
   "cell_type": "code",
   "execution_count": null,
   "metadata": {},
   "outputs": [],
   "source": [
    "print(len(pvalues1[np.where(pvalues1<0.05)]))\n",
    "\n",
    "# Bonferroni correction\n",
    "# Get Bonferroni corrected P-value, which is 0.0001\n",
    "bf_p = 0.05/10267\n",
    "# count P-values < bf_p\n",
    "# output: 0\n",
    "print(\"After Bonferroni: \"+str(len(pvalues1[np.where(pvalues1<bf_p)])))\n",
    "\n",
    "# Benjamini and Hochberg FDR at alpha=0.05\n",
    "y=multipletests(pvals=pvalues1, alpha=0.05, method=\"fdr_bh\")\n",
    "# output: 0\n",
    "print(\"After Benjamini/Hochberg correction :\"+str(len(y[1][np.where(y[1]<0.05)])))  # y[1] returns corrected P-vals (array)"
   ]
  },
  {
   "cell_type": "code",
   "execution_count": null,
   "metadata": {},
   "outputs": [],
   "source": [
    "to_append = list(pvalues1)\n",
    "cluster0_results.loc[\"pvalues\"] = to_append"
   ]
  },
  {
   "cell_type": "markdown",
   "metadata": {},
   "source": [
    "Calculating log fold change:"
   ]
  },
  {
   "cell_type": "code",
   "execution_count": null,
   "metadata": {},
   "outputs": [],
   "source": [
    "covid_mean = cluster0_results.iloc[:1387,:].mean()\n",
    "healthy_mean = cluster0_results.iloc[1387:,:].mean()\n",
    "# To prevent undefined fold changes, any mean values = 0 were replaced with 0.0001\n",
    "healthy_mean[healthy_mean == 0] = 0.0001\n",
    "\n",
    "fold_change = (covid_mean/healthy_mean) \n",
    "fold_change = np.log2(fold_change)\n",
    "\n",
    "to_append = list(fold_change)\n",
    "cluster0_results.loc[\"logFC\"] = to_append"
   ]
  },
  {
   "cell_type": "markdown",
   "metadata": {},
   "source": [
    "Finding most significant genes using various filters:"
   ]
  },
  {
   "cell_type": "code",
   "execution_count": null,
   "metadata": {},
   "outputs": [],
   "source": [
    "cluster0_results_transposed = cluster0_results.T\n",
    "cluster0_results_transposed['GeneNames'] = cluster0_results_transposed.index\n",
    "cluster0_results_transposed = cluster0_results_transposed[cluster0_results_transposed['pvalues'].notna()]\n",
    "\n",
    "# Counting how many were significant\n",
    "print(\"Total number of significant genes: \"\n",
    "      +str(cluster0_results_transposed[cluster0_results_transposed['pvalues'] < 0.05].shape[0]))\n",
    "\n",
    "# Filter by p-value only, top 10 significant genes\n",
    "print(\"P-value only filtered:\")\n",
    "print(cluster0_results_transposed.nsmallest(10,['pvalues']))\n",
    "\n",
    "# Filtering by |log2FC| >= 1\n",
    "logFC_gt1 = cluster0_results_transposed[abs(cluster0_results_transposed['logFC']) >= 1]\n",
    "# Top 20 most significant genes\n",
    "print(\"P-value and log2 fold change filtered:\")\n",
    "print(logFC_gt1.nsmallest(20,['pvalues']).iloc[:,-3:])"
   ]
  },
  {
   "cell_type": "markdown",
   "metadata": {},
   "source": [
    "Visualising signficant genes using volcano plot:"
   ]
  },
  {
   "cell_type": "code",
   "execution_count": null,
   "metadata": {},
   "outputs": [],
   "source": [
    "visuz.gene_exp.volcano(df=cluster0_results_transposed, lfc='logFC', pv='pvalues', plotlegend=True, legendpos='upper right', \n",
    "    legendanchor=(1.46,1),gstyle=2, sign_line=True, show=True)"
   ]
  },
  {
   "cell_type": "markdown",
   "metadata": {},
   "source": [
    "CLUSTER 1:"
   ]
  },
  {
   "cell_type": "markdown",
   "metadata": {},
   "source": [
    "Transforming data back to original counts:"
   ]
  },
  {
   "cell_type": "code",
   "execution_count": null,
   "metadata": {},
   "outputs": [],
   "source": [
    "cluster1_results = pd.read_csv(\"./cluster1_bcells.csv\")\n",
    "cluster1_results = cluster1_results.iloc[:,:-3].transform(lambda x: np.log10(x+1))"
   ]
  },
  {
   "cell_type": "markdown",
   "metadata": {},
   "source": [
    "Calculating p-values on original count data:"
   ]
  },
  {
   "cell_type": "code",
   "execution_count": null,
   "metadata": {},
   "outputs": [],
   "source": [
    "pvalues1 = stats.ttest_ind(cluster1_results.iloc[:1344,:],cluster1_results.iloc[1344:,:],equal_var=False)[1]"
   ]
  },
  {
   "cell_type": "markdown",
   "metadata": {},
   "source": [
    "Performing multiple testing correction:"
   ]
  },
  {
   "cell_type": "code",
   "execution_count": null,
   "metadata": {},
   "outputs": [],
   "source": [
    "print(len(pvalues1[np.where(pvalues1<0.05)]))\n",
    "\n",
    "# Bonferroni correction\n",
    "# Get Bonferroni corrected P-value, which is 0.0001\n",
    "bf_p = 0.05/10267\n",
    "# count P-values < bf_p\n",
    "# output: 0\n",
    "print(\"After Bonferroni: \"+str(len(pvalues1[np.where(pvalues1<bf_p)])))\n",
    "\n",
    "# Benjamini and Hochberg FDR at alpha=0.05\n",
    "y=multipletests(pvals=pvalues1, alpha=0.05, method=\"fdr_bh\")\n",
    "# output: 0\n",
    "print(\"After Benjamini/Hochberg correction :\"+str(len(y[1][np.where(y[1]<0.05)])))  # y[1] returns corrected P-vals (array)"
   ]
  },
  {
   "cell_type": "code",
   "execution_count": null,
   "metadata": {},
   "outputs": [],
   "source": [
    "to_append = list(pvalues1)\n",
    "cluster1_results.loc[\"pvalues\"] = to_append"
   ]
  },
  {
   "cell_type": "markdown",
   "metadata": {},
   "source": [
    "Calculating log fold change:"
   ]
  },
  {
   "cell_type": "code",
   "execution_count": null,
   "metadata": {},
   "outputs": [],
   "source": [
    "covid_mean = cluster1_results.iloc[:1344,:].mean()\n",
    "healthy_mean = cluster1_results.iloc[1344:,:].mean()\n",
    "# To prevent undefined fold changes, any mean values = 0 were replaced with 0.0001\n",
    "healthy_mean[healthy_mean == 0] = 0.0001\n",
    "\n",
    "fold_change = (covid_mean/healthy_mean) \n",
    "fold_change = np.log2(fold_change)\n",
    "\n",
    "to_append = list(fold_change)\n",
    "cluster1_results.loc[\"logFC\"] = to_append"
   ]
  },
  {
   "cell_type": "markdown",
   "metadata": {},
   "source": [
    "Finding most significant genes using various filters:"
   ]
  },
  {
   "cell_type": "code",
   "execution_count": null,
   "metadata": {},
   "outputs": [],
   "source": [
    "cluster1_results_transposed = cluster1_results.T\n",
    "cluster1_results_transposed['GeneNames'] = cluster1_results_transposed.index\n",
    "cluster1_results_transposed = cluster1_results_transposed[cluster1_results_transposed['pvalues'].notna()]\n",
    "# Retaining genes with |logFC| <= 10 \n",
    "cluster1_results_transposed = cluster1_results_transposed[abs(cluster1_results_transposed['logFC']) <= 10]\n",
    "\n",
    "# Counting how many were significant\n",
    "print(\"Total number of significant genes: \"\n",
    "      +str(cluster1_results_transposed[cluster1_results_transposed['pvalues'] < 0.05].shape[0]))\n",
    "\n",
    "# Filter by p-value only, top 10 signficant genes\n",
    "print(\"P-value only filtered:\")\n",
    "print(cluster1_results_transposed.nsmallest(10,['pvalues']))\n",
    "\n",
    "# Filtering by |log2FC| >= 1\n",
    "logFC_gt1 = cluster1_results_transposed[abs(cluster1_results_transposed['logFC']) >= 1]\n",
    "# Top 20 most significant genes\n",
    "print(\"P-value and log2 fold change filtered:\")\n",
    "print(logFC_gt1.nsmallest(20,['pvalues']).iloc[:,-3:])"
   ]
  },
  {
   "cell_type": "markdown",
   "metadata": {},
   "source": [
    "Visualising signficant genes using volcano plot:"
   ]
  },
  {
   "cell_type": "code",
   "execution_count": null,
   "metadata": {},
   "outputs": [],
   "source": [
    "visuz.gene_exp.volcano(df=cluster1_results_transposed, lfc='logFC', pv='pvalues', plotlegend=True, legendpos='upper right', \n",
    "    legendanchor=(1.46,1),gstyle=2, sign_line=True, show=True)"
   ]
  },
  {
   "cell_type": "markdown",
   "metadata": {},
   "source": [
    "CLUSTER 2:"
   ]
  },
  {
   "cell_type": "markdown",
   "metadata": {},
   "source": [
    "Transforming data back to original counts:"
   ]
  },
  {
   "cell_type": "code",
   "execution_count": null,
   "metadata": {},
   "outputs": [],
   "source": [
    "cluster2_results = pd.read_csv(\"./cluster2_bcells.csv\")\n",
    "cluster2_results = cluster2_results.iloc[:,:-3].transform(lambda x: np.log10(x+1))"
   ]
  },
  {
   "cell_type": "markdown",
   "metadata": {},
   "source": [
    "Calculating p-values on original count data:"
   ]
  },
  {
   "cell_type": "code",
   "execution_count": null,
   "metadata": {},
   "outputs": [],
   "source": [
    "pvalues1 = stats.ttest_ind(cluster2_results.iloc[:297,:],cluster2_results.iloc[297:,:],equal_var=False)[1]"
   ]
  },
  {
   "cell_type": "markdown",
   "metadata": {},
   "source": [
    "Performing multiple testing correction:"
   ]
  },
  {
   "cell_type": "code",
   "execution_count": null,
   "metadata": {},
   "outputs": [],
   "source": [
    "print(len(pvalues1[np.where(pvalues1<0.05)]))\n",
    "\n",
    "# Bonferroni correction\n",
    "# Get Bonferroni corrected P-value, which is 0.0001\n",
    "bf_p = 0.05/10267\n",
    "# count P-values < bf_p\n",
    "# output: 0\n",
    "print(\"After Bonferroni: \"+str(len(pvalues1[np.where(pvalues1<bf_p)])))\n",
    "\n",
    "# Benjamini and Hochberg FDR at alpha=0.05\n",
    "y=multipletests(pvals=pvalues1, alpha=0.05, method=\"fdr_bh\")\n",
    "# output: 0\n",
    "print(\"After Benjamini/Hochberg correction :\"+str(len(y[1][np.where(y[1]<0.05)])))  # y[1] returns corrected P-vals (array)"
   ]
  },
  {
   "cell_type": "code",
   "execution_count": null,
   "metadata": {},
   "outputs": [],
   "source": [
    "to_append = list(pvalues1)\n",
    "cluster2_results.loc[\"pvalues\"] = to_append"
   ]
  },
  {
   "cell_type": "markdown",
   "metadata": {},
   "source": [
    "Calculating log fold change:"
   ]
  },
  {
   "cell_type": "code",
   "execution_count": null,
   "metadata": {},
   "outputs": [],
   "source": [
    "covid_mean = cluster2_results.iloc[:297,:].mean()\n",
    "healthy_mean = cluster2_results.iloc[297:,:].mean()\n",
    "# To prevent undefined fold changes, any mean values = 0 were replaced with 0.0001\n",
    "healthy_mean[healthy_mean == 0] = 0.0001\n",
    "\n",
    "fold_change = (covid_mean/healthy_mean) \n",
    "fold_change = np.log2(fold_change)\n",
    "fold_change[fold_change == -inf] = 0\n",
    "\n",
    "to_append = list(fold_change)\n",
    "cluster2_results.loc[\"logFC\"] = to_append"
   ]
  },
  {
   "cell_type": "markdown",
   "metadata": {},
   "source": [
    "Finding most significant genes using various filters:"
   ]
  },
  {
   "cell_type": "code",
   "execution_count": null,
   "metadata": {},
   "outputs": [],
   "source": [
    "cluster2_results_transposed = cluster2_results.T\n",
    "cluster2_results_transposed['GeneNames'] = cluster2_results_transposed.index\n",
    "\n",
    "# Counting how many were significant\n",
    "print(\"Total number of significant genes: \"\n",
    "      +str(cluster2_results_transposed[cluster2_results_transposed['pvalues'] < 0.05].shape[0]))\n",
    "\n",
    "# Filtering by |log2FC| >= 1\n",
    "logFC_gt1 = cluster2_results_transposed[abs(cluster2_results_transposed['logFC']) >= 1]\n",
    "# Top 20 most significant genes\n",
    "print(\"P-value and log2 fold change filtered:\")\n",
    "print(logFC_gt1.nsmallest(20,['pvalues']).iloc[:,-3:])"
   ]
  },
  {
   "cell_type": "markdown",
   "metadata": {},
   "source": [
    "##### CODE FOR CD8+ T CELLS:"
   ]
  },
  {
   "cell_type": "markdown",
   "metadata": {},
   "source": [
    "CLUSTER 0:"
   ]
  },
  {
   "cell_type": "markdown",
   "metadata": {},
   "source": [
    "Transforming data back to original counts:"
   ]
  },
  {
   "cell_type": "code",
   "execution_count": null,
   "metadata": {},
   "outputs": [],
   "source": [
    "cluster0_results = pd.read_csv(\"./cluster0_cd8cells.csv\")\n",
    "cluster0_results = cluster0_results.loc[:, (cluster0_results != 0).any(axis=0)]\n",
    "cluster0_results = cluster0_results.iloc[:,:-3].transform(lambda x: np.log10(x+1))"
   ]
  },
  {
   "cell_type": "markdown",
   "metadata": {},
   "source": [
    "Calculating p-values on original count data:"
   ]
  },
  {
   "cell_type": "code",
   "execution_count": null,
   "metadata": {},
   "outputs": [],
   "source": [
    "pvalues1 = stats.ttest_ind(cluster0_results.iloc[:2617,:],cluster0_results.iloc[2617:,:],equal_var=False)[1]"
   ]
  },
  {
   "cell_type": "markdown",
   "metadata": {},
   "source": [
    "Performing multiple testing correction:"
   ]
  },
  {
   "cell_type": "code",
   "execution_count": null,
   "metadata": {},
   "outputs": [],
   "source": [
    "print(len(pvalues1[np.where(pvalues1<0.05)]))\n",
    "\n",
    "# Bonferroni correction\n",
    "# Get Bonferroni corrected P-value, which is 0.0001\n",
    "bf_p = 0.05/10113\n",
    "# count P-values < bf_p\n",
    "# output: 0\n",
    "print(\"After Bonferroni: \"+str(len(pvalues1[np.where(pvalues1<bf_p)])))\n",
    "\n",
    "# Benjamini and Hochberg FDR at alpha=0.05\n",
    "y=multipletests(pvals=pvalues1, alpha=0.05, method=\"fdr_bh\")\n",
    "# output: 0\n",
    "print(\"After Benjamini/Hochberg correction :\"+str(len(y[1][np.where(y[1]<0.05)])))  # y[1] returns corrected P-vals (array)"
   ]
  },
  {
   "cell_type": "code",
   "execution_count": null,
   "metadata": {},
   "outputs": [],
   "source": [
    "to_append = list(pvalues1)\n",
    "cluster0_results.loc[\"pvalues\"] = to_append"
   ]
  },
  {
   "cell_type": "markdown",
   "metadata": {},
   "source": [
    "Calculating log fold change:"
   ]
  },
  {
   "cell_type": "code",
   "execution_count": null,
   "metadata": {},
   "outputs": [],
   "source": [
    "covid_mean = cluster0_results.iloc[:2617,:].mean()\n",
    "healthy_mean = cluster0_results.iloc[2617:,:].mean()\n",
    "# To prevent undefined fold changes, any mean values = 0 were replaced with 0.0001\n",
    "healthy_mean[healthy_mean == 0] = 0.0001\n",
    "\n",
    "fold_change = (covid_mean/healthy_mean) \n",
    "fold_change = np.log2(fold_change)\n",
    "fold_change[fold_change == -inf] = 0\n",
    "\n",
    "to_append = list(fold_change)\n",
    "cluster0_results.loc[\"logFC\"] = to_append"
   ]
  },
  {
   "cell_type": "markdown",
   "metadata": {},
   "source": [
    "Finding most significant genes using various filters:"
   ]
  },
  {
   "cell_type": "code",
   "execution_count": null,
   "metadata": {},
   "outputs": [],
   "source": [
    "cluster0_results_transposed = cluster0_results.T\n",
    "cluster0_results_transposed['GeneNames'] = cluster0_results_transposed.index\n",
    "cluster0_results_transposed = cluster0_results_transposed[cluster0_results_transposed['pvalues'].notna()]\n",
    "# Retaining genes with |logFC| <= 10\n",
    "cluster0_results_transposed = cluster0_results_transposed[abs(cluster0_results_transposed['logFC']) <= 10]\n",
    "\n",
    "# Counting how many were significant\n",
    "print(\"Total number of significant genes: \"\n",
    "      +str(cluster0_results_transposed[cluster0_results_transposed['pvalues'] < 0.05].shape[0]))\n",
    "\n",
    "# Filtering by |log2FC| >= 1\n",
    "logFC_gt1 = cluster0_results_transposed[abs(cluster0_results_transposed['logFC']) >= 1]\n",
    "# Top 20 most significant genes\n",
    "print(\"P-value and log2 fold change filtered:\")\n",
    "print(logFC_gt1.nsmallest(20,['pvalues']).iloc[:,-3:])"
   ]
  },
  {
   "cell_type": "markdown",
   "metadata": {},
   "source": [
    "Visualising signficant genes using volcano plot:"
   ]
  },
  {
   "cell_type": "code",
   "execution_count": null,
   "metadata": {},
   "outputs": [],
   "source": [
    "visuz.gene_exp.volcano(df=cluster0_results_transposed, lfc='logFC', pv='pvalues', plotlegend=True, legendpos='upper right', \n",
    "    legendanchor=(1.46,1),gstyle=2, sign_line=True, show=True)"
   ]
  },
  {
   "cell_type": "markdown",
   "metadata": {},
   "source": [
    "CLUSTER 1:"
   ]
  },
  {
   "cell_type": "markdown",
   "metadata": {},
   "source": [
    "Transforming data back to original counts:"
   ]
  },
  {
   "cell_type": "code",
   "execution_count": null,
   "metadata": {},
   "outputs": [],
   "source": [
    "cluster1_results = pd.read_csv(\"./cluster1_cd8cells.csv\")\n",
    "cluster1_results = cluster1_results.iloc[:,:-3].transform(lambda x: np.log10(x+1))"
   ]
  },
  {
   "cell_type": "markdown",
   "metadata": {},
   "source": [
    "Calculating p-values on original count data:"
   ]
  },
  {
   "cell_type": "code",
   "execution_count": null,
   "metadata": {},
   "outputs": [],
   "source": [
    "pvalues1 = stats.ttest_ind(cluster1_results.iloc[:407,:],cluster1_results.iloc[407:,:],equal_var=False)[1]"
   ]
  },
  {
   "cell_type": "markdown",
   "metadata": {},
   "source": [
    "Performing multiple testing correction:"
   ]
  },
  {
   "cell_type": "code",
   "execution_count": null,
   "metadata": {},
   "outputs": [],
   "source": [
    "print(len(pvalues1[np.where(pvalues1<0.05)]))\n",
    "\n",
    "# Bonferroni correction\n",
    "# Get Bonferroni corrected P-value, which is 0.0001\n",
    "bf_p = 0.05/10113\n",
    "# count P-values < bf_p\n",
    "# output: 0\n",
    "print(\"After Bonferroni: \"+str(len(pvalues1[np.where(pvalues1<bf_p)])))\n",
    "\n",
    "# Benjamini and Hochberg FDR at alpha=0.05\n",
    "y=multipletests(pvals=pvalues1, alpha=0.05, method=\"fdr_bh\")\n",
    "# output: 0\n",
    "print(\"After Benjamini/Hochberg correction :\"+str(len(y[1][np.where(y[1]<0.05)])))  # y[1] returns corrected P-vals (array)"
   ]
  },
  {
   "cell_type": "code",
   "execution_count": null,
   "metadata": {},
   "outputs": [],
   "source": [
    "to_append = list(pvalues1)\n",
    "cluster1_results.loc[\"pvalues\"] = to_append"
   ]
  },
  {
   "cell_type": "markdown",
   "metadata": {},
   "source": [
    "Calculating log fold change:"
   ]
  },
  {
   "cell_type": "code",
   "execution_count": null,
   "metadata": {},
   "outputs": [],
   "source": [
    "covid_mean = cluster1_results.iloc[:407,:].mean()\n",
    "healthy_mean = cluster1_results.iloc[407:,:].mean()\n",
    "# To prevent undefined fold changes, any mean values = 0 were replaced with 0.0001\n",
    "healthy_mean[healthy_mean == 0] = 0.0001\n",
    "\n",
    "fold_change = (covid_mean/healthy_mean) \n",
    "fold_change = np.log2(fold_change)\n",
    "fold_change[fold_change == -inf] = 0\n",
    "\n",
    "to_append = list(fold_change)\n",
    "cluster1_results.loc[\"logFC\"] = to_append"
   ]
  },
  {
   "cell_type": "markdown",
   "metadata": {},
   "source": [
    "Finding most significant genes using various filters:"
   ]
  },
  {
   "cell_type": "code",
   "execution_count": null,
   "metadata": {},
   "outputs": [],
   "source": [
    "cluster1_results_transposed = cluster1_results.T\n",
    "cluster1_results_transposed['GeneNames'] = cluster1_results_transposed.index\n",
    "cluster1_results_transposed = cluster1_results_transposed[cluster1_results_transposed['pvalues'].notna()]\n",
    "# Retaining genes with |logFC| <= 10\n",
    "cluster1_results_transposed = cluster1_results_transposed[abs(cluster1_results_transposed['logFC']) <= 10]\n",
    "\n",
    "# Counting how many were significant\n",
    "print(\"Total number of significant genes: \"\n",
    "      +str(cluster1_results_transposed[cluster1_results_transposed['pvalues'] < 0.05].shape[0]))\n",
    "\n",
    "# Filter by p-value only, top 10 signficant genes\n",
    "print(\"P-value only filtered:\")\n",
    "print(cluster1_results_transposed.nsmallest(10,['pvalues']))\n",
    "\n",
    "# Filtering by |log2FC| >= 1\n",
    "logFC_gt1 = cluster1_results_transposed[abs(cluster1_results_transposed['logFC']) >= 1]\n",
    "# Top 20 most significant genes\n",
    "print(\"P-value and log2 fold change filtered:\")\n",
    "print(logFC_gt1.nsmallest(20,['pvalues']).iloc[:,-3:])"
   ]
  },
  {
   "cell_type": "markdown",
   "metadata": {},
   "source": [
    "Visualising signficant genes using volcano plot:"
   ]
  },
  {
   "cell_type": "code",
   "execution_count": null,
   "metadata": {},
   "outputs": [],
   "source": [
    "visuz.gene_exp.volcano(df=cluster1_results_transposed, lfc='logFC', pv='pvalues', plotlegend=True, legendpos='upper right', \n",
    "    legendanchor=(1.46,1),gstyle=2, sign_line=True, show=True)"
   ]
  },
  {
   "cell_type": "markdown",
   "metadata": {},
   "source": [
    "### Conceptual Model - LASSO Regression"
   ]
  },
  {
   "cell_type": "markdown",
   "metadata": {},
   "source": [
    "Summarising information to a patient level:"
   ]
  },
  {
   "cell_type": "code",
   "execution_count": null,
   "metadata": {},
   "outputs": [],
   "source": [
    "mean_B = combined_B_filtered.groupby('Patient').mean()\n",
    "mean_CD8 = combined_CD8_filtered.groupby('Patient').mean()"
   ]
  },
  {
   "cell_type": "code",
   "execution_count": null,
   "metadata": {},
   "outputs": [],
   "source": [
    "mean_B.loc[1:7,'Status'] = 1\n",
    "mean_CD8.loc[1:7,'Status'] = 1"
   ]
  },
  {
   "cell_type": "markdown",
   "metadata": {},
   "source": [
    "##### CODE FOR B CELLS:"
   ]
  },
  {
   "cell_type": "markdown",
   "metadata": {},
   "source": [
    "Extracting genes which were statistically significant from volcano plots for LASSO:"
   ]
  },
  {
   "cell_type": "code",
   "execution_count": null,
   "metadata": {},
   "outputs": [],
   "source": [
    "B_0 = mean_B.loc[:, mean_B.columns.isin(['Status', 'HLA-DQB1', 'IFI44L', 'DSP', 'S100A8', \n",
    "                                         'XIST', 'S100A9', 'IFI44', 'IFIT3', 'EML6', 'PARP9', \n",
    "                                         'VCAN', 'ARHGAP24', 'OAS3', 'PPDPF', 'HBB', 'IFI27', \n",
    "                                         'RP5-887A10.1', 'STMN3', 'ALDH16A1', 'TEX9'])]\n",
    "B_1 = mean_B.loc[:, mean_B.columns.isin(['Status', 'IFI27', 'CLU', 'CD3D', 'F13A1', 'HIST1H2AC',\n",
    "                                         'ANAPC1', 'BZW2', 'IGHV3-9', 'FASTKD1', 'SIGLEC1', \n",
    "                                         'CHSY1', 'TCTN3', 'IGLV1-40', 'COLGALT1', 'MKKS', \n",
    "                                         'VWA8', 'ITGB3', 'PTP4A3', 'ZCCHC8', 'IGLV3-10'])]\n",
    "B_2 = mean_B.loc[:, mean_B.columns.isin(['Status','IL32', 'IFI44L', 'MX1', 'DSP', 'S100A8', \n",
    "                                         'IGLC2', 'SPON2', 'PDIA4', 'CD300A', 'SOCS3', 'MATK',\n",
    "                                         'IFI44', 'LINC00623', 'CHST2', 'TAPSAR1', 'PILRB', \n",
    "                                         'PPP1R12C', 'P4HA1', 'METRNL', 'MYOM2'])]"
   ]
  },
  {
   "cell_type": "markdown",
   "metadata": {},
   "source": [
    "Creating training and test data for each cluster:"
   ]
  },
  {
   "cell_type": "code",
   "execution_count": null,
   "metadata": {},
   "outputs": [],
   "source": [
    "X_B0 = B_0.drop(['Status'], axis=1)\n",
    "y_B0 = B_0['Status']\n",
    "\n",
    "X_B1 = B_1.drop(['Status'], axis=1)\n",
    "y_B1 = B_1['Status']\n",
    "\n",
    "X_B2 = B_2.drop(['Status'], axis=1)\n",
    "y_B2 = B_2['Status']"
   ]
  },
  {
   "cell_type": "markdown",
   "metadata": {},
   "source": [
    "Running LASSO regression on cluster 0 and computing and plotting leave one out cross validation scores for various L1 penalty coefficients:"
   ]
  },
  {
   "cell_type": "code",
   "execution_count": null,
   "metadata": {},
   "outputs": [],
   "source": [
    "# Fitting LASSO regression to data\n",
    "cs = l1_min_c(X_B0, y_B0, loss=\"log\") * np.logspace(0, 5, 12)\n",
    "\n",
    "clf = linear_model.LogisticRegression(\n",
    "    penalty=\"l1\",\n",
    "    solver=\"liblinear\",\n",
    "    tol=1e-6,\n",
    "    max_iter=int(1e6),\n",
    "    warm_start=True,\n",
    "    intercept_scaling=10000.0,\n",
    ")\n",
    "\n",
    "# Computing cross validation scores\n",
    "coefs_ = []\n",
    "cv_scores = []\n",
    "cv = KFold(n_splits=13, random_state=1, shuffle=True)\n",
    "for c in cs:\n",
    "    scores=[]\n",
    "    clf.set_params(C=c)\n",
    "    clf.fit(X_B0, y_B0)\n",
    "    coefs_.append(clf.coef_.ravel().copy())\n",
    "    scores = (cross_val_score(clf, X_B0, y_B0, scoring='accuracy', cv=cv, n_jobs=-1))\n",
    "    cv_scores.append(mean(scores))\n",
    "    print(c, 'Accuracy: %.3f (%.3f)' % (mean(scores), std(scores)))\n",
    "\n",
    "# Plotting cross validation scores\n",
    "cv_scores = np.array(cv_scores)\n",
    "coefs_ = np.array(coefs_)\n",
    "plt.plot(np.log10(cs), cv_scores, marker=\"o\")\n",
    "ymin, ymax = plt.ylim()\n",
    "plt.xlabel(\"log(C)\")\n",
    "plt.ylabel(\"Cross Validation Accuracy Score\")\n",
    "plt.title(\"Cross Validation Accuracy Scores for Logistic LASSO Models\", \n",
    "          \"with Various L1 Penalty Coefficients in UMAP Cluster #0 for B Cells\")\n",
    "plt.axis(\"tight\")\n",
    "plt.show()"
   ]
  },
  {
   "cell_type": "markdown",
   "metadata": {},
   "source": [
    "Print and plotting L1 regularization path:"
   ]
  },
  {
   "cell_type": "code",
   "execution_count": null,
   "metadata": {},
   "outputs": [],
   "source": [
    "print(coefs_)\n",
    "plt.plot(np.log10(cs), coefs_, marker=\"o\")\n",
    "ymin, ymax = plt.ylim()\n",
    "plt.xlabel(\"log(C)\")\n",
    "plt.ylabel(\"Coefficients\")\n",
    "plt.title(\"L1 Regularization Path for UMAP Cluster #0 for B Cells\")\n",
    "plt.legend(X_B0.columns.values, bbox_to_anchor=(1, 1))\n",
    "plt.axis(\"tight\")\n",
    "plt.show()"
   ]
  },
  {
   "cell_type": "markdown",
   "metadata": {},
   "source": [
    "Running LASSO regression on cluster 1 and computing leave one out cross validation scores for various L1 penalty coefficients:"
   ]
  },
  {
   "cell_type": "code",
   "execution_count": null,
   "metadata": {},
   "outputs": [],
   "source": [
    "# Fitting LASSO regression to data\n",
    "cs = l1_min_c(X_B1, y_B1, loss=\"log\") * np.logspace(0, 5, 12)\n",
    "\n",
    "clf = linear_model.LogisticRegression(\n",
    "    penalty=\"l1\",\n",
    "    solver=\"liblinear\",\n",
    "    tol=1e-6,\n",
    "    max_iter=int(1e6),\n",
    "    warm_start=True,\n",
    "    intercept_scaling=10000.0,\n",
    ")\n",
    "\n",
    "# Computing cross validation scores\n",
    "coefs_ = []\n",
    "cv_scores = []\n",
    "cv = KFold(n_splits=13, random_state=1, shuffle=True)\n",
    "for c in cs:\n",
    "    scores=[]\n",
    "    clf.set_params(C=c)\n",
    "    clf.fit(X_B1, y_B1)\n",
    "    coefs_.append(clf.coef_.ravel().copy())\n",
    "    scores = (cross_val_score(clf, X_B1, y_B1, scoring='accuracy', cv=cv, n_jobs=-1))\n",
    "    cv_scores.append(mean(scores))\n",
    "    print(c, 'Accuracy: %.3f (%.3f)' % (mean(scores), std(scores)))\n",
    "\n",
    "# Plotting cross validation scores\n",
    "cv_scores = np.array(cv_scores)\n",
    "coefs_ = np.array(coefs_)\n",
    "plt.plot(np.log10(cs), cv_scores, marker=\"o\")\n",
    "ymin, ymax = plt.ylim()\n",
    "plt.xlabel(\"log(C)\")\n",
    "plt.ylabel(\"Cross Validation Accuracy Score\")\n",
    "plt.title(\"Cross Validation Accuracy Scores for Logistic LASSO Models with Various L1 Penalty Coefficients in UMAP Cluster #1 for B Cells\")\n",
    "plt.axis(\"tight\")\n",
    "plt.show()"
   ]
  },
  {
   "cell_type": "markdown",
   "metadata": {},
   "source": [
    "Printing and plotting L1 regularization path:"
   ]
  },
  {
   "cell_type": "code",
   "execution_count": null,
   "metadata": {},
   "outputs": [],
   "source": [
    "print(coefs_)\n",
    "plt.plot(np.log10(cs), coefs_, marker=\"o\")\n",
    "ymin, ymax = plt.ylim()\n",
    "plt.xlabel(\"log(C)\")\n",
    "plt.ylabel(\"Coefficients\")\n",
    "plt.title(\"L1 Regularization Path for UMAP Cluster #1 for B Cells\")\n",
    "plt.legend(X_B1.columns.values, bbox_to_anchor=(1, 1))\n",
    "plt.axis(\"tight\")\n",
    "plt.show()"
   ]
  },
  {
   "cell_type": "markdown",
   "metadata": {},
   "source": [
    "Running LASSO regression on cluster 2 and computing leave one out cross validation scores for various L1 penalty coefficients:"
   ]
  },
  {
   "cell_type": "code",
   "execution_count": null,
   "metadata": {},
   "outputs": [],
   "source": [
    "# Fitting LASSO regression to data\n",
    "cs = l1_min_c(X_B2, y_B2, loss=\"log\") * np.logspace(0, 5, 12)\n",
    "\n",
    "clf = linear_model.LogisticRegression(\n",
    "    penalty=\"l1\",\n",
    "    solver=\"liblinear\",\n",
    "    tol=1e-6,\n",
    "    max_iter=int(1e6),\n",
    "    warm_start=True,\n",
    "    intercept_scaling=10000.0,\n",
    ")\n",
    "\n",
    "# Computing cross validation scores\n",
    "coefs_ = []\n",
    "cv_scores = []\n",
    "cv = KFold(n_splits=13, random_state=1, shuffle=True)\n",
    "for c in cs:\n",
    "    scores=[]\n",
    "    clf.set_params(C=c)\n",
    "    clf.fit(X_B2, y_B2)\n",
    "    coefs_.append(clf.coef_.ravel().copy())\n",
    "    scores = (cross_val_score(clf, X_B2, y_B2, scoring='accuracy', cv=cv, n_jobs=-1))\n",
    "    cv_scores.append(mean(scores))\n",
    "    print(c, 'Accuracy: %.3f (%.3f)' % (mean(scores), std(scores)))\n",
    "\n",
    "# Plotting cross validation scores\n",
    "cv_scores = np.array(cv_scores)\n",
    "coefs_ = np.array(coefs_)\n",
    "plt.plot(np.log10(cs), cv_scores, marker=\"o\")\n",
    "ymin, ymax = plt.ylim()\n",
    "plt.xlabel(\"log(C)\")\n",
    "plt.ylabel(\"Cross Validation Accuracy Score\")\n",
    "plt.title(\"Cross Validation Accuracy Scores for Logistic LASSO Models with Various L1 Penalty Coefficients in UMAP Cluster #2 for B Cells\")\n",
    "plt.axis(\"tight\")\n",
    "plt.show()"
   ]
  },
  {
   "cell_type": "markdown",
   "metadata": {},
   "source": [
    "Printing and plotting L1 regularization path:"
   ]
  },
  {
   "cell_type": "code",
   "execution_count": null,
   "metadata": {},
   "outputs": [],
   "source": [
    "print(coefs_)\n",
    "plt.plot(np.log10(cs), coefs_, marker=\"o\")\n",
    "ymin, ymax = plt.ylim()\n",
    "plt.xlabel(\"log(C)\")\n",
    "plt.ylabel(\"Coefficients\")\n",
    "plt.title(\"L1 Regularization Path for UMAP Cluster #2 for B Cells\")\n",
    "plt.legend(X_B2.columns.values, bbox_to_anchor=(1, 1))\n",
    "plt.axis(\"tight\")\n",
    "plt.show()"
   ]
  },
  {
   "cell_type": "markdown",
   "metadata": {},
   "source": [
    "##### CODE FOR CD8+ T CELLS:"
   ]
  },
  {
   "cell_type": "markdown",
   "metadata": {},
   "source": [
    "Extracting genes which were statistically significant from volcano plots for LASSO:"
   ]
  },
  {
   "cell_type": "code",
   "execution_count": null,
   "metadata": {},
   "outputs": [],
   "source": [
    "CD8_0 = mean_CD8.loc[:, mean_CD8.columns.isin(['Status', 'MAPKAPK2', 'RP11-284N8.3', 'ZFAND5', 'SRSF9', \n",
    "                                               'CASP8AP2', 'IFI44', 'BRD7', 'HECTD4', 'ATXN2L', 'IPO5', \n",
    "                                               'IFIH1', 'GIMAP8', 'MON2', 'SLC15A4', 'ENDOD1', 'PAIP2', \n",
    "                                               'ANO6', 'ITPR1', 'NXF1', 'IGHG4'])]\n",
    "CD8_1 = mean_CD8.loc[:, mean_CD8.columns.isin(['Status','XIST', 'IGLC3', 'PDZD4', 'ZNF683', 'RASSF1', \n",
    "                                               'S100A8', 'BCR', 'ZNRD1-AS1', 'HLA-DQB1', 'CMKLR1', \n",
    "                                               'PCNXL3', 'IGHG1', 'AGAP3', 'HCP5', 'NPC1', 'PILRB', \n",
    "                                               'AGAP1', 'MCM7', 'MED12', 'PLXND1'])]"
   ]
  },
  {
   "cell_type": "markdown",
   "metadata": {},
   "source": [
    "Creating training and test data for each cluster:"
   ]
  },
  {
   "cell_type": "code",
   "execution_count": null,
   "metadata": {},
   "outputs": [],
   "source": [
    "X_CD8_0 = CD8_0.drop(['Status'], axis=1)\n",
    "y_CD8_0 = CD8_0['Status']\n",
    "\n",
    "X_CD8_1 = CD8_1.drop(['Status'], axis=1)\n",
    "y_CD8_1 = CD8_1['Status']"
   ]
  },
  {
   "cell_type": "markdown",
   "metadata": {},
   "source": [
    "Running LASSO regression on cluster 0 and computing and plotting leave one out cross validation scores for various L1 penalty coefficients:"
   ]
  },
  {
   "cell_type": "code",
   "execution_count": null,
   "metadata": {},
   "outputs": [],
   "source": [
    "# Fitting LASSO regression to data\n",
    "cs = l1_min_c(X_CD8_0, y_CD8_0, loss=\"log\") * np.logspace(0, 5, 12)\n",
    "\n",
    "clf = linear_model.LogisticRegression(\n",
    "    penalty=\"l1\",\n",
    "    solver=\"liblinear\",\n",
    "    tol=1e-6,\n",
    "    max_iter=int(1e6),\n",
    "    warm_start=True,\n",
    "    intercept_scaling=10000.0,\n",
    ")\n",
    "\n",
    "# Computing cross validation scores\n",
    "coefs_ = []\n",
    "cv_scores = []\n",
    "cv = KFold(n_splits=13, random_state=1, shuffle=True)\n",
    "for c in cs:\n",
    "    scores=[]\n",
    "    clf.set_params(C=c)\n",
    "    clf.fit(X_CD8_0, y_CD8_0)\n",
    "    coefs_.append(clf.coef_.ravel().copy())\n",
    "    scores = (cross_val_score(clf, X_CD8_0, y_CD8_0, scoring='accuracy', cv=cv, n_jobs=-1))\n",
    "    cv_scores.append(mean(scores))\n",
    "    print(c, 'Accuracy: %.3f (%.3f)' % (mean(scores), std(scores)))\n",
    "\n",
    "# Plotting cross validation scores\n",
    "cv_scores = np.array(cv_scores)\n",
    "coefs_ = np.array(coefs_)\n",
    "plt.plot(np.log10(cs), cv_scores, marker=\"o\")\n",
    "ymin, ymax = plt.ylim()\n",
    "plt.xlabel(\"log(C)\")\n",
    "plt.ylabel(\"Cross Validation Accuracy Score\")\n",
    "plt.title(\"Cross Validation Accuracy Scores for Logistic LASSO Models with Various L1 Penalty Coefficients in UMAP Cluster #0 for CD8+ T Cells\")\n",
    "plt.axis(\"tight\")\n",
    "plt.show()"
   ]
  },
  {
   "cell_type": "markdown",
   "metadata": {},
   "source": [
    "Printing and plotting L1 regularization path:"
   ]
  },
  {
   "cell_type": "code",
   "execution_count": null,
   "metadata": {},
   "outputs": [],
   "source": [
    "print(coefs_)\n",
    "plt.plot(np.log10(cs), coefs_, marker=\"o\")\n",
    "ymin, ymax = plt.ylim()\n",
    "plt.xlabel(\"log(C)\")\n",
    "plt.ylabel(\"Coefficients\")\n",
    "plt.title(\"L1 Regularization Path for UMAP Cluster #0 for CD8+ T Cells\")\n",
    "plt.legend(X_CD8_0.columns.values, bbox_to_anchor=(1, 1))\n",
    "plt.axis(\"tight\")\n",
    "plt.show()"
   ]
  },
  {
   "cell_type": "markdown",
   "metadata": {},
   "source": [
    "Running LASSO regression on cluster 1 and computing and plotting leave one out cross validation scores for various L1 penalty coefficients:"
   ]
  },
  {
   "cell_type": "code",
   "execution_count": null,
   "metadata": {},
   "outputs": [],
   "source": [
    "# Fitting LASSO regression to data\n",
    "cs = l1_min_c(X_CD8_1, y_CD8_1, loss=\"log\") * np.logspace(0, 5, 12)\n",
    "\n",
    "clf = linear_model.LogisticRegression(\n",
    "    penalty=\"l1\",\n",
    "    solver=\"liblinear\",\n",
    "    tol=1e-6,\n",
    "    max_iter=int(1e6),\n",
    "    warm_start=True,\n",
    "    intercept_scaling=10000.0,\n",
    ")\n",
    "\n",
    "# Computing cross validation scores\n",
    "coefs_ = []\n",
    "cv_scores = []\n",
    "cv = KFold(n_splits=13, random_state=1, shuffle=True)\n",
    "for c in cs:\n",
    "    scores=[]\n",
    "    clf.set_params(C=c)\n",
    "    clf.fit(X_CD8_1, y_CD8_1)\n",
    "    coefs_.append(clf.coef_.ravel().copy())\n",
    "    scores = (cross_val_score(clf, X_CD8_1, y_CD8_1, scoring='accuracy', cv=cv, n_jobs=-1))\n",
    "    cv_scores.append(mean(scores))\n",
    "    print(c, 'Accuracy: %.3f (%.3f)' % (mean(scores), std(scores)))\n",
    "\n",
    "# Plotting cross validation scores\n",
    "cv_scores = np.array(cv_scores)\n",
    "coefs_ = np.array(coefs_)\n",
    "plt.plot(np.log10(cs), cv_scores, marker=\"o\")\n",
    "ymin, ymax = plt.ylim()\n",
    "plt.xlabel(\"log(C)\")\n",
    "plt.ylabel(\"Cross Validation Accuracy Score\")\n",
    "plt.title(\"Cross Validation Accuracy Scores for Logistic LASSO Models with Various L1 Penalty Coefficients in UMAP Cluster #1 for CD8+ T Cells\")\n",
    "plt.axis(\"tight\")\n",
    "plt.show()"
   ]
  },
  {
   "cell_type": "markdown",
   "metadata": {},
   "source": [
    "Printing and plotting L1 regularization path:"
   ]
  },
  {
   "cell_type": "code",
   "execution_count": null,
   "metadata": {},
   "outputs": [],
   "source": [
    "print(coefs_)\n",
    "plt.plot(np.log10(cs), coefs_, marker=\"o\")\n",
    "ymin, ymax = plt.ylim()\n",
    "plt.xlabel(\"log(C)\")\n",
    "plt.ylabel(\"Coefficients\")\n",
    "plt.title(\"L1 Regularization Path for UMAP Cluster #1 for CD8+ T Cells\")\n",
    "plt.legend(X_CD8_1.columns.values, bbox_to_anchor=(1, 1))\n",
    "plt.axis(\"tight\")\n",
    "plt.show()"
   ]
  },
  {
   "cell_type": "markdown",
   "metadata": {},
   "source": [
    "---"
   ]
  }
 ],
 "metadata": {
  "kernelspec": {
   "display_name": "Python 3",
   "language": "python",
   "name": "python3"
  },
  "language_info": {
   "codemirror_mode": {
    "name": "ipython",
    "version": 3
   },
   "file_extension": ".py",
   "mimetype": "text/x-python",
   "name": "python",
   "nbconvert_exporter": "python",
   "pygments_lexer": "ipython3",
   "version": "3.8.5"
  }
 },
 "nbformat": 4,
 "nbformat_minor": 4
}
